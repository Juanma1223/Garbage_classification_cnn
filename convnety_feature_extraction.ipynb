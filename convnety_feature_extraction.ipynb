{
 "cells": [
  {
   "cell_type": "code",
   "execution_count": 8,
   "metadata": {},
   "outputs": [
    {
     "name": "stdout",
     "output_type": "stream",
     "text": [
      "Found 2390 files belonging to 5 classes.\n",
      "Using 1912 files for training.\n",
      "Found 2390 files belonging to 5 classes.\n",
      "Using 478 files for validation.\n"
     ]
    }
   ],
   "source": [
    "import numpy as np\n",
    "import time\n",
    "\n",
    "import PIL.Image as Image\n",
    "import matplotlib.pylab as plt\n",
    "\n",
    "import tensorflow as tf\n",
    "import tensorflow_hub as hub\n",
    "\n",
    "import datetime\n",
    "\n",
    "dataDir = \"/code/archive/garbage_classification/Garbage_classification\"\n",
    "\n",
    "imgHeight = 224\n",
    "imgWidth = 224\n",
    "batchSize = 32\n",
    "\n",
    "trainDs = tf.keras.utils.image_dataset_from_directory(\n",
    "  dataDir,\n",
    "  validation_split=0.2,\n",
    "  labels='inferred',\n",
    "  subset=\"training\",\n",
    "  seed=123,\n",
    "  image_size=(imgHeight, imgWidth),\n",
    "  batch_size=batchSize)\n",
    "\n",
    "valDs = tf.keras.utils.image_dataset_from_directory(\n",
    "  dataDir,\n",
    "  validation_split=0.2,\n",
    "  labels='inferred',\n",
    "  subset=\"validation\",\n",
    "  seed=123,\n",
    "  image_size=(imgHeight, imgWidth),\n",
    "  batch_size=batchSize)\n",
    "\n",
    "data_augmentation = tf.keras.Sequential([\n",
    "  tf.keras.layers.RandomFlip('horizontal'),\n",
    "  tf.keras.layers.RandomRotation(0.2),\n",
    "  tf.keras.layers.RandomZoom(.5, .2),\n",
    "  # tf.keras.layers.RandomContrast(0.2),\n",
    "])\n",
    "\n",
    "mobilenet_v2 = \"https://tfhub.dev/google/tf2-preview/mobilenet_v2/feature_vector/4\"\n",
    "inception_v3 = \"https://tfhub.dev/google/tf2-preview/inception_v3/feature_vector/4\"\n",
    "\n",
    "feature_extractor_model = mobilenet_v2\n",
    "\n",
    "IMAGE_SHAPE = (imgHeight, imgWidth)\n",
    "\n",
    "# Apply normalization to images\n",
    "normalization_layer = tf.keras.layers.Rescaling(1./255)\n",
    "trainDs = trainDs.map(lambda x, y: (normalization_layer(x), y)) # Where x—images, y—labels.\n",
    "valDs = valDs.map(lambda x, y: (normalization_layer(x), y)) # Where x—images, y—labels.\n",
    "\n",
    "AUTOTUNE = tf.data.AUTOTUNE\n",
    "trainDs = trainDs.cache().prefetch(buffer_size=AUTOTUNE)\n",
    "valDs = valDs.cache().prefetch(buffer_size=AUTOTUNE)\n",
    "\n",
    "resize_and_rescale = tf.keras.Sequential([\n",
    "  tf.keras.layers.Resizing(imgHeight,imgWidth),\n",
    "])\n",
    "\n",
    "feature_extractor_layer = hub.KerasLayer(\n",
    "    feature_extractor_model,\n",
    "    input_shape=(imgHeight, imgWidth, 3),\n",
    "    trainable=False)\n",
    "\n",
    "feature_extractor_layer.trainable = False\n",
    "\n",
    "\n",
    "model = tf.keras.Sequential([\n",
    "  resize_and_rescale,\n",
    "  data_augmentation,\n",
    "  feature_extractor_layer,\n",
    "  tf.keras.layers.Dropout(0.3),\n",
    "  tf.keras.layers.Flatten(),\n",
    "  tf.keras.layers.Dense(512, activation='relu'),\n",
    "  tf.keras.layers.Dense(5, activation='softmax')\n",
    "])\n",
    "\n",
    "model.compile(\n",
    "  optimizer=tf.keras.optimizers.Adam(),\n",
    "  loss=tf.keras.losses.SparseCategoricalCrossentropy(from_logits=True),\n",
    "  metrics=['acc'])\n",
    "# model.summary()\n",
    "\n",
    "\n"
   ]
  },
  {
   "cell_type": "code",
   "execution_count": 10,
   "metadata": {},
   "outputs": [
    {
     "name": "stdout",
     "output_type": "stream",
     "text": [
      "Epoch 1/15\n",
      "60/60 [==============================] - 34s 574ms/step - loss: 0.2884 - acc: 0.8933 - val_loss: 0.4283 - val_acc: 0.8577\n",
      "Epoch 2/15\n",
      "60/60 [==============================] - 34s 564ms/step - loss: 0.2529 - acc: 0.8996 - val_loss: 0.4753 - val_acc: 0.8515\n",
      "Epoch 3/15\n",
      "60/60 [==============================] - 33s 551ms/step - loss: 0.2420 - acc: 0.9048 - val_loss: 0.3883 - val_acc: 0.8473\n",
      "Epoch 4/15\n",
      "60/60 [==============================] - 33s 545ms/step - loss: 0.2395 - acc: 0.9079 - val_loss: 0.3970 - val_acc: 0.8661\n",
      "Epoch 5/15\n",
      "60/60 [==============================] - 33s 554ms/step - loss: 0.2042 - acc: 0.9268 - val_loss: 0.3615 - val_acc: 0.8703\n",
      "Epoch 6/15\n",
      "60/60 [==============================] - 33s 553ms/step - loss: 0.2183 - acc: 0.9168 - val_loss: 0.3569 - val_acc: 0.8724\n",
      "Epoch 7/15\n",
      "60/60 [==============================] - 32s 538ms/step - loss: 0.2193 - acc: 0.9189 - val_loss: 0.4142 - val_acc: 0.8452\n",
      "Epoch 8/15\n",
      "60/60 [==============================] - 33s 549ms/step - loss: 0.1932 - acc: 0.9351 - val_loss: 0.4503 - val_acc: 0.8452\n",
      "Epoch 9/15\n",
      "60/60 [==============================] - 33s 554ms/step - loss: 0.2064 - acc: 0.9236 - val_loss: 0.3775 - val_acc: 0.8766\n",
      "Epoch 10/15\n",
      "60/60 [==============================] - 34s 564ms/step - loss: 0.1811 - acc: 0.9351 - val_loss: 0.4659 - val_acc: 0.8536\n",
      "Epoch 11/15\n",
      "60/60 [==============================] - 33s 544ms/step - loss: 0.1789 - acc: 0.9294 - val_loss: 0.4205 - val_acc: 0.8682\n",
      "Epoch 12/15\n",
      "60/60 [==============================] - 33s 544ms/step - loss: 0.1706 - acc: 0.9388 - val_loss: 0.3286 - val_acc: 0.8828\n",
      "Epoch 13/15\n",
      "60/60 [==============================] - 32s 542ms/step - loss: 0.1765 - acc: 0.9299 - val_loss: 0.3673 - val_acc: 0.8828\n",
      "Epoch 14/15\n",
      "60/60 [==============================] - 33s 549ms/step - loss: 0.1786 - acc: 0.9367 - val_loss: 0.3620 - val_acc: 0.8703\n",
      "Epoch 15/15\n",
      "60/60 [==============================] - 33s 544ms/step - loss: 0.1272 - acc: 0.9582 - val_loss: 0.3865 - val_acc: 0.8745\n"
     ]
    }
   ],
   "source": [
    "# Fit model\n",
    "\n",
    "history = model.fit(trainDs,\n",
    "epochs=15,\n",
    "validation_data=valDs)\n",
    "\n",
    "# plt.plot(history.history['accuracy'])\n",
    "# plt.plot(history.history['val_accuracy'])\n",
    "# plt.title('model accuracy')\n",
    "# plt.ylabel('accuracy')\n",
    "# plt.xlabel('epoch')\n",
    "# plt.legend(['train', 'test'], loc='upper left')\n",
    "# plt.show()"
   ]
  },
  {
   "cell_type": "code",
   "execution_count": 47,
   "metadata": {},
   "outputs": [
    {
     "name": "stdout",
     "output_type": "stream",
     "text": [
      "1/1 [==============================] - 0s 53ms/step\n",
      "[[1.5315803e-04 4.3285124e-02 9.5343727e-01 8.5262604e-05 3.0392420e-03]]\n",
      "Max probability 0.95343727\n",
      "Predicted index 2\n",
      "Predicted class: Metal\n",
      "1.0000000553773134\n"
     ]
    }
   ],
   "source": [
    "from PIL import Image\n",
    "model.save('./saved_mode/garbage_class.h5')\n",
    "# img = Image.open(\"/code/test_images/plastic_bottle_1.jpg\").convert('L').resize((imgWidth,imgHeight), Image.ANTIALIAS)\n",
    "# img = np.array(img)\n",
    "# print(img.shape())\n",
    "\n",
    "img = tf.io.read_file(\"/code/test_images/metal_4.jpg\")\n",
    "tensor = tf.io.decode_image(img, channels=3, dtype=tf.dtypes.float32)\n",
    "tensor = tf.image.resize(tensor, [imgHeight, imgWidth])\n",
    "input_tensor = tf.expand_dims(tensor, axis=0)\n",
    "\n",
    "prediction = model.predict(input_tensor)\n",
    "print(prediction)\n",
    "maxValue = max(prediction[0])\n",
    "print(\"Max probability\",maxValue)\n",
    "\n",
    "# Set classes labels\n",
    "classes = ['Cardboard','Glass','Metal','Paper','Plastic']\n",
    "\n",
    "print(\"Predicted index\",np.where(prediction[0] == maxValue)[0][0])\n",
    "print(\"Predicted class:\",classes[np.where(prediction[0] == maxValue)[0][0]])\n",
    "print(sum(prediction[0]))"
   ]
  }
 ],
 "metadata": {
  "kernelspec": {
   "display_name": "Python 3.8.10 64-bit",
   "language": "python",
   "name": "python3"
  },
  "language_info": {
   "codemirror_mode": {
    "name": "ipython",
    "version": 3
   },
   "file_extension": ".py",
   "mimetype": "text/x-python",
   "name": "python",
   "nbconvert_exporter": "python",
   "pygments_lexer": "ipython3",
   "version": "3.8.10"
  },
  "orig_nbformat": 4,
  "vscode": {
   "interpreter": {
    "hash": "916dbcbb3f70747c44a77c7bcd40155683ae19c65e1c03b4aa3499c5328201f1"
   }
  }
 },
 "nbformat": 4,
 "nbformat_minor": 2
}
