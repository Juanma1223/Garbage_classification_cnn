{
 "cells": [
  {
   "cell_type": "code",
   "execution_count": 63,
   "metadata": {},
   "outputs": [
    {
     "name": "stdout",
     "output_type": "stream",
     "text": [
      "Found 2390 files belonging to 5 classes.\n",
      "Using 1912 files for training.\n",
      "Found 2390 files belonging to 5 classes.\n",
      "Using 478 files for validation.\n"
     ]
    }
   ],
   "source": [
    "import numpy as np\n",
    "import time\n",
    "\n",
    "import PIL.Image as Image\n",
    "import matplotlib.pylab as plt\n",
    "\n",
    "import tensorflow as tf\n",
    "import tensorflow_hub as hub\n",
    "\n",
    "import datetime\n",
    "\n",
    "dataDir = \"/code/archive/garbage_classification/Garbage_classification\"\n",
    "\n",
    "imgHeight = 224\n",
    "imgWidth = 224\n",
    "batchSize = 32\n",
    "\n",
    "trainDs = tf.keras.utils.image_dataset_from_directory(\n",
    "  dataDir,\n",
    "  validation_split=0.2,\n",
    "  subset=\"training\",\n",
    "  seed=123,\n",
    "  image_size=(imgHeight, imgWidth),\n",
    "  batch_size=batchSize)\n",
    "\n",
    "valDs = tf.keras.utils.image_dataset_from_directory(\n",
    "  dataDir,\n",
    "  validation_split=0.2,\n",
    "  subset=\"validation\",\n",
    "  seed=123,\n",
    "  image_size=(imgHeight, imgWidth),\n",
    "  batch_size=batchSize)\n",
    "\n",
    "data_augmentation = tf.keras.Sequential([\n",
    "  tf.keras.layers.RandomFlip('horizontal'),\n",
    "  tf.keras.layers.RandomRotation(0.2),\n",
    "])\n",
    "\n",
    "mobilenet_v2 = \"https://tfhub.dev/google/tf2-preview/mobilenet_v2/feature_vector/4\"\n",
    "inception_v3 = \"https://tfhub.dev/google/tf2-preview/inception_v3/feature_vector/4\"\n",
    "\n",
    "feature_extractor_model = mobilenet_v2\n",
    "\n",
    "IMAGE_SHAPE = (imgHeight, imgWidth)\n",
    "\n",
    "# Apply normalization to images\n",
    "normalization_layer = tf.keras.layers.Rescaling(1./255)\n",
    "train_ds = trainDs.map(lambda x, y: (normalization_layer(x), y)) # Where x—images, y—labels.\n",
    "val_ds = valDs.map(lambda x, y: (normalization_layer(x), y)) # Where x—images, y—labels.\n",
    "\n",
    "AUTOTUNE = tf.data.AUTOTUNE\n",
    "trainDs = trainDs.cache().prefetch(buffer_size=AUTOTUNE)\n",
    "valDs = valDs.cache().prefetch(buffer_size=AUTOTUNE)\n",
    "\n",
    "resize_and_rescale = tf.keras.Sequential([\n",
    "  tf.keras.layers.Resizing(imgHeight,imgWidth),\n",
    "])\n",
    "\n",
    "feature_extractor_layer = hub.KerasLayer(\n",
    "    feature_extractor_model,\n",
    "    input_shape=(imgHeight, imgWidth, 3),\n",
    "    trainable=False)\n",
    "\n",
    "feature_extractor_layer.trainable = False\n",
    "\n",
    "\n",
    "model = tf.keras.Sequential([\n",
    "  resize_and_rescale,\n",
    "  feature_extractor_layer,\n",
    "  tf.keras.layers.Dense(5)\n",
    "])\n",
    "\n",
    "model.compile(\n",
    "  optimizer=tf.keras.optimizers.Adam(),\n",
    "  loss=tf.keras.losses.SparseCategoricalCrossentropy(from_logits=True),\n",
    "  metrics=['acc'])\n",
    "# model.summary()\n",
    "\n",
    "\n"
   ]
  },
  {
   "cell_type": "code",
   "execution_count": 65,
   "metadata": {},
   "outputs": [
    {
     "name": "stdout",
     "output_type": "stream",
     "text": [
      "Epoch 1/5\n",
      "60/60 [==============================] - 22s 365ms/step - loss: 0.7003 - acc: 0.7641 - val_loss: 0.7849 - val_acc: 0.7008\n",
      "Epoch 2/5\n",
      "60/60 [==============================] - 22s 367ms/step - loss: 0.6660 - acc: 0.7793 - val_loss: 0.7720 - val_acc: 0.7071\n",
      "Epoch 3/5\n",
      "60/60 [==============================] - 22s 366ms/step - loss: 0.6362 - acc: 0.7887 - val_loss: 0.7617 - val_acc: 0.7071\n",
      "Epoch 4/5\n",
      "60/60 [==============================] - 22s 363ms/step - loss: 0.6099 - acc: 0.7981 - val_loss: 0.7535 - val_acc: 0.7155\n",
      "Epoch 5/5\n",
      "60/60 [==============================] - 22s 364ms/step - loss: 0.5863 - acc: 0.8049 - val_loss: 0.7467 - val_acc: 0.7155\n"
     ]
    }
   ],
   "source": [
    "# Fit model\n",
    "\n",
    "history = model.fit(trainDs,\n",
    "epochs=5,\n",
    "validation_data=valDs)\n",
    "\n",
    "# plt.plot(history.history['accuracy'])\n",
    "# plt.plot(history.history['val_accuracy'])\n",
    "# plt.title('model accuracy')\n",
    "# plt.ylabel('accuracy')\n",
    "# plt.xlabel('epoch')\n",
    "# plt.legend(['train', 'test'], loc='upper left')\n",
    "# plt.show()"
   ]
  },
  {
   "cell_type": "code",
   "execution_count": 1,
   "metadata": {},
   "outputs": [
    {
     "ename": "NameError",
     "evalue": "name 'model' is not defined",
     "output_type": "error",
     "traceback": [
      "\u001b[0;31m---------------------------------------------------------------------------\u001b[0m",
      "\u001b[0;31mNameError\u001b[0m                                 Traceback (most recent call last)",
      "Cell \u001b[0;32mIn[1], line 2\u001b[0m\n\u001b[1;32m      1\u001b[0m \u001b[39mfrom\u001b[39;00m \u001b[39mPIL\u001b[39;00m \u001b[39mimport\u001b[39;00m Image\n\u001b[0;32m----> 2\u001b[0m model\u001b[39m.\u001b[39msave(\u001b[39m'\u001b[39m\u001b[39m./saved_mode/garbage_class.h5\u001b[39m\u001b[39m'\u001b[39m)\n\u001b[1;32m      3\u001b[0m \u001b[39m# img = Image.open(\"/code/test_images/plastic_bottle_1.jpg\").convert('L').resize((imgWidth,imgHeight), Image.ANTIALIAS)\u001b[39;00m\n\u001b[1;32m      4\u001b[0m \u001b[39m# img = np.array(img)\u001b[39;00m\n\u001b[1;32m      5\u001b[0m \u001b[39m# print(img.shape())\u001b[39;00m\n\u001b[1;32m      7\u001b[0m img \u001b[39m=\u001b[39m tf\u001b[39m.\u001b[39mio\u001b[39m.\u001b[39mread_file(\u001b[39m\"\u001b[39m\u001b[39m/code/test_images/cardboard1.jpg\u001b[39m\u001b[39m\"\u001b[39m)\n",
      "\u001b[0;31mNameError\u001b[0m: name 'model' is not defined"
     ]
    }
   ],
   "source": [
    "from PIL import Image\n",
    "model.save('./saved_mode/garbage_class.h5')\n",
    "# img = Image.open(\"/code/test_images/plastic_bottle_1.jpg\").convert('L').resize((imgWidth,imgHeight), Image.ANTIALIAS)\n",
    "# img = np.array(img)\n",
    "# print(img.shape())\n",
    "\n",
    "img = tf.io.read_file(\"/code/test_images/cardboard1.jpg\")\n",
    "tensor = tf.io.decode_image(img, channels=3, dtype=tf.dtypes.float32)\n",
    "tensor = tf.image.resize(tensor, [imgHeight, imgWidth])\n",
    "input_tensor = tf.expand_dims(tensor, axis=0)\n",
    "\n",
    "print(model.predict(input_tensor))\n",
    "print(max(model.predict(input_tensor)[0]))"
   ]
  }
 ],
 "metadata": {
  "kernelspec": {
   "display_name": "Python 3.8.10 64-bit",
   "language": "python",
   "name": "python3"
  },
  "language_info": {
   "codemirror_mode": {
    "name": "ipython",
    "version": 3
   },
   "file_extension": ".py",
   "mimetype": "text/x-python",
   "name": "python",
   "nbconvert_exporter": "python",
   "pygments_lexer": "ipython3",
   "version": "3.8.10"
  },
  "orig_nbformat": 4,
  "vscode": {
   "interpreter": {
    "hash": "916dbcbb3f70747c44a77c7bcd40155683ae19c65e1c03b4aa3499c5328201f1"
   }
  }
 },
 "nbformat": 4,
 "nbformat_minor": 2
}
