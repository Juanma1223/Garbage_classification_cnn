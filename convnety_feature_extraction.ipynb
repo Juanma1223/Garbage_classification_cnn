{
 "cells": [
  {
   "cell_type": "code",
   "execution_count": 4,
   "metadata": {},
   "outputs": [
    {
     "name": "stdout",
     "output_type": "stream",
     "text": [
      "Found 2390 files belonging to 5 classes.\n",
      "Using 1912 files for training.\n",
      "Found 2390 files belonging to 5 classes.\n",
      "Using 478 files for validation.\n"
     ]
    }
   ],
   "source": [
    "import numpy as np\n",
    "import time\n",
    "\n",
    "import PIL.Image as Image\n",
    "import matplotlib.pylab as plt\n",
    "\n",
    "import tensorflow as tf\n",
    "import tensorflow_hub as hub\n",
    "\n",
    "import datetime\n",
    "\n",
    "dataDir = \"/code/archive/garbage_classification/Garbage_classification\"\n",
    "\n",
    "imgHeight = 224\n",
    "imgWidth = 224\n",
    "batchSize = 32\n",
    "\n",
    "trainDs = tf.keras.utils.image_dataset_from_directory(\n",
    "  dataDir,\n",
    "  validation_split=0.2,\n",
    "  labels='inferred',\n",
    "  subset=\"training\",\n",
    "  seed=123,\n",
    "  image_size=(imgHeight, imgWidth),\n",
    "  batch_size=batchSize)\n",
    "\n",
    "valDs = tf.keras.utils.image_dataset_from_directory(\n",
    "  dataDir,\n",
    "  validation_split=0.2,\n",
    "  labels='inferred',\n",
    "  subset=\"validation\",\n",
    "  seed=123,\n",
    "  image_size=(imgHeight, imgWidth),\n",
    "  batch_size=batchSize)\n",
    "\n",
    "data_augmentation = tf.keras.Sequential([\n",
    "  tf.keras.layers.RandomFlip('horizontal'),\n",
    "  tf.keras.layers.RandomRotation(0.2),\n",
    "  tf.keras.layers.RandomZoom(.5, .2),\n",
    "  # tf.keras.layers.RandomContrast(0.2),\n",
    "])\n",
    "\n",
    "mobilenet_v2 = \"https://tfhub.dev/google/tf2-preview/mobilenet_v2/feature_vector/4\"\n",
    "\n",
    "feature_extractor_model = mobilenet_v2\n",
    "\n",
    "IMAGE_SHAPE = (imgHeight, imgWidth)\n",
    "\n",
    "# Apply normalization to images\n",
    "normalization_layer = tf.keras.layers.Rescaling(1./255)\n",
    "trainDs = trainDs.map(lambda x, y: (normalization_layer(x), y)) \n",
    "valDs = valDs.map(lambda x, y: (normalization_layer(x), y)) \n",
    "\n",
    "AUTOTUNE = tf.data.AUTOTUNE\n",
    "trainDs = trainDs.cache().prefetch(buffer_size=AUTOTUNE)\n",
    "valDs = valDs.cache().prefetch(buffer_size=AUTOTUNE)\n",
    "\n",
    "resize_and_rescale = tf.keras.Sequential([\n",
    "  tf.keras.layers.Resizing(imgHeight,imgWidth),\n",
    "])\n",
    "\n",
    "feature_extractor_layer = hub.KerasLayer(\n",
    "    feature_extractor_model,\n",
    "    input_shape=(imgHeight, imgWidth, 3),\n",
    "    trainable=False)\n",
    "\n",
    "feature_extractor_layer.trainable = False\n",
    "\n",
    "\n",
    "model = tf.keras.Sequential([\n",
    "  resize_and_rescale,\n",
    "  data_augmentation,\n",
    "  feature_extractor_layer,\n",
    "  tf.keras.layers.Dropout(0.3),\n",
    "  tf.keras.layers.Flatten(),\n",
    "  tf.keras.layers.Dense(512, activation='relu'),\n",
    "  tf.keras.layers.Dense(5, activation='softmax')\n",
    "])\n",
    "\n",
    "model.compile(\n",
    "  optimizer=tf.keras.optimizers.Adam(),\n",
    "  loss=tf.keras.losses.SparseCategoricalCrossentropy(from_logits=True),\n",
    "  metrics=['acc'])\n",
    "# model.summary()\n",
    "\n",
    "\n"
   ]
  },
  {
   "cell_type": "code",
   "execution_count": 8,
   "metadata": {},
   "outputs": [
    {
     "name": "stdout",
     "output_type": "stream",
     "text": [
      "Epoch 1/15\n",
      "60/60 [==============================] - 27s 455ms/step - loss: 0.2094 - acc: 0.9189 - val_loss: 0.3697 - val_acc: 0.8598\n",
      "Epoch 2/15\n",
      "60/60 [==============================] - 26s 438ms/step - loss: 0.2203 - acc: 0.9210 - val_loss: 0.3925 - val_acc: 0.8577\n",
      "Epoch 3/15\n",
      "60/60 [==============================] - 25s 422ms/step - loss: 0.1973 - acc: 0.9294 - val_loss: 0.3895 - val_acc: 0.8766\n",
      "Epoch 4/15\n",
      "60/60 [==============================] - 25s 422ms/step - loss: 0.2014 - acc: 0.9221 - val_loss: 0.3658 - val_acc: 0.8745\n",
      "Epoch 5/15\n",
      "60/60 [==============================] - 25s 422ms/step - loss: 0.1714 - acc: 0.9399 - val_loss: 0.3718 - val_acc: 0.8682\n",
      "Epoch 6/15\n",
      "60/60 [==============================] - 25s 422ms/step - loss: 0.1852 - acc: 0.9346 - val_loss: 0.3779 - val_acc: 0.8703\n",
      "Epoch 7/15\n",
      "60/60 [==============================] - 26s 431ms/step - loss: 0.1768 - acc: 0.9372 - val_loss: 0.3816 - val_acc: 0.8619\n",
      "Epoch 8/15\n",
      "60/60 [==============================] - 26s 428ms/step - loss: 0.1796 - acc: 0.9351 - val_loss: 0.3949 - val_acc: 0.8724\n",
      "Epoch 9/15\n",
      "60/60 [==============================] - 26s 427ms/step - loss: 0.1766 - acc: 0.9331 - val_loss: 0.4227 - val_acc: 0.8473\n",
      "Epoch 10/15\n",
      "60/60 [==============================] - 26s 430ms/step - loss: 0.1423 - acc: 0.9487 - val_loss: 0.3567 - val_acc: 0.8828\n",
      "Epoch 11/15\n",
      "60/60 [==============================] - 30s 496ms/step - loss: 0.1519 - acc: 0.9493 - val_loss: 0.3404 - val_acc: 0.8787\n",
      "Epoch 12/15\n",
      "60/60 [==============================] - 27s 447ms/step - loss: 0.1391 - acc: 0.9535 - val_loss: 0.3300 - val_acc: 0.8849\n",
      "Epoch 13/15\n",
      "60/60 [==============================] - 27s 448ms/step - loss: 0.1536 - acc: 0.9461 - val_loss: 0.3654 - val_acc: 0.8619\n",
      "Epoch 14/15\n",
      "60/60 [==============================] - 26s 442ms/step - loss: 0.1457 - acc: 0.9435 - val_loss: 0.3138 - val_acc: 0.8808\n",
      "Epoch 15/15\n",
      "60/60 [==============================] - 27s 450ms/step - loss: 0.1183 - acc: 0.9566 - val_loss: 0.3365 - val_acc: 0.8828\n"
     ]
    }
   ],
   "source": [
    "# Fit model\n",
    "\n",
    "history = model.fit(trainDs,\n",
    "epochs=15,\n",
    "validation_data=valDs)\n",
    "\n",
    "# plt.plot(history.history['accuracy'])\n",
    "# plt.plot(history.history['val_accuracy'])\n",
    "# plt.title('model accuracy')\n",
    "# plt.ylabel('accuracy')\n",
    "# plt.xlabel('epoch')\n",
    "# plt.legend(['train', 'test'], loc='upper left')\n",
    "# plt.show()"
   ]
  },
  {
   "cell_type": "code",
   "execution_count": 9,
   "metadata": {},
   "outputs": [
    {
     "name": "stdout",
     "output_type": "stream",
     "text": [
      "dict_keys(['loss', 'acc', 'val_loss', 'val_acc'])\n"
     ]
    },
    {
     "ename": "KeyError",
     "evalue": "'accuracy'",
     "output_type": "error",
     "traceback": [
      "\u001b[0;31m---------------------------------------------------------------------------\u001b[0m",
      "\u001b[0;31mKeyError\u001b[0m                                  Traceback (most recent call last)",
      "Cell \u001b[0;32mIn[9], line 2\u001b[0m\n\u001b[1;32m      1\u001b[0m \u001b[39mprint\u001b[39m(history\u001b[39m.\u001b[39mhistory\u001b[39m.\u001b[39mkeys())\n\u001b[0;32m----> 2\u001b[0m plt\u001b[39m.\u001b[39mplot(history\u001b[39m.\u001b[39;49mhistory[\u001b[39m'\u001b[39;49m\u001b[39maccuracy\u001b[39;49m\u001b[39m'\u001b[39;49m])\n\u001b[1;32m      3\u001b[0m plt\u001b[39m.\u001b[39mplot(history\u001b[39m.\u001b[39mhistory[\u001b[39m'\u001b[39m\u001b[39mval_accuracy\u001b[39m\u001b[39m'\u001b[39m])\n\u001b[1;32m      4\u001b[0m plt\u001b[39m.\u001b[39mtitle(\u001b[39m'\u001b[39m\u001b[39mmodel accuracy\u001b[39m\u001b[39m'\u001b[39m)\n",
      "\u001b[0;31mKeyError\u001b[0m: 'accuracy'"
     ]
    }
   ],
   "source": [
    "print(history.history.keys())\n",
    "plt.plot(history.history['acc'])\n",
    "plt.plot(history.history['val_acc'])\n",
    "plt.title('model accuracy')\n",
    "plt.ylabel('accuracy')\n",
    "plt.xlabel('epoch')\n",
    "plt.legend(['train', 'test'], loc='upper left')\n",
    "plt.show()"
   ]
  },
  {
   "cell_type": "code",
   "execution_count": 47,
   "metadata": {},
   "outputs": [
    {
     "name": "stdout",
     "output_type": "stream",
     "text": [
      "1/1 [==============================] - 0s 53ms/step\n",
      "[[1.5315803e-04 4.3285124e-02 9.5343727e-01 8.5262604e-05 3.0392420e-03]]\n",
      "Max probability 0.95343727\n",
      "Predicted index 2\n",
      "Predicted class: Metal\n",
      "1.0000000553773134\n"
     ]
    }
   ],
   "source": [
    "from PIL import Image\n",
    "model.save('./saved_mode/garbage_class.h5')\n",
    "# img = Image.open(\"/code/test_images/plastic_bottle_1.jpg\").convert('L').resize((imgWidth,imgHeight), Image.ANTIALIAS)\n",
    "# img = np.array(img)\n",
    "# print(img.shape())\n",
    "\n",
    "img = tf.io.read_file(\"/code/test_images/metal_4.jpg\")\n",
    "tensor = tf.io.decode_image(img, channels=3, dtype=tf.dtypes.float32)\n",
    "tensor = tf.image.resize(tensor, [imgHeight, imgWidth])\n",
    "input_tensor = tf.expand_dims(tensor, axis=0)\n",
    "\n",
    "prediction = model.predict(input_tensor)\n",
    "print(prediction)\n",
    "maxValue = max(prediction[0])\n",
    "print(\"Max probability\",maxValue)\n",
    "\n",
    "# Set classes labels\n",
    "classes = ['Cardboard','Glass','Metal','Paper','Plastic']\n",
    "\n",
    "print(\"Predicted index\",np.where(prediction[0] == maxValue)[0][0])\n",
    "print(\"Predicted class:\",classes[np.where(prediction[0] == maxValue)[0][0]])\n",
    "print(sum(prediction[0]))"
   ]
  }
 ],
 "metadata": {
  "kernelspec": {
   "display_name": "Python 3.8.10 64-bit",
   "language": "python",
   "name": "python3"
  },
  "language_info": {
   "codemirror_mode": {
    "name": "ipython",
    "version": 3
   },
   "file_extension": ".py",
   "mimetype": "text/x-python",
   "name": "python",
   "nbconvert_exporter": "python",
   "pygments_lexer": "ipython3",
   "version": "3.8.10"
  },
  "orig_nbformat": 4,
  "vscode": {
   "interpreter": {
    "hash": "916dbcbb3f70747c44a77c7bcd40155683ae19c65e1c03b4aa3499c5328201f1"
   }
  }
 },
 "nbformat": 4,
 "nbformat_minor": 2
}
