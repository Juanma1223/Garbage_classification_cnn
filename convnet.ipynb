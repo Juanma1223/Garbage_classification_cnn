{
 "cells": [
  {
   "cell_type": "code",
   "execution_count": 2,
   "metadata": {},
   "outputs": [
    {
     "name": "stderr",
     "output_type": "stream",
     "text": [
      "2022-12-11 03:14:43.982161: I tensorflow/core/platform/cpu_feature_guard.cc:193] This TensorFlow binary is optimized with oneAPI Deep Neural Network Library (oneDNN) to use the following CPU instructions in performance-critical operations:  AVX2 FMA\n",
      "To enable them in other operations, rebuild TensorFlow with the appropriate compiler flags.\n"
     ]
    },
    {
     "name": "stdout",
     "output_type": "stream",
     "text": [
      "Found 2390 files belonging to 5 classes.\n",
      "Using 1912 files for training.\n"
     ]
    },
    {
     "name": "stderr",
     "output_type": "stream",
     "text": [
      "2022-12-11 03:14:47.575379: I tensorflow/core/platform/cpu_feature_guard.cc:193] This TensorFlow binary is optimized with oneAPI Deep Neural Network Library (oneDNN) to use the following CPU instructions in performance-critical operations:  AVX2 FMA\n",
      "To enable them in other operations, rebuild TensorFlow with the appropriate compiler flags.\n"
     ]
    },
    {
     "name": "stdout",
     "output_type": "stream",
     "text": [
      "Found 2390 files belonging to 5 classes.\n",
      "Using 478 files for validation.\n",
      "Epoch 1/12\n",
      "WARNING:tensorflow:Using a while_loop for converting RngReadAndSkip cause there is no registered converter for this op.\n",
      "WARNING:tensorflow:Using a while_loop for converting Bitcast cause there is no registered converter for this op.\n",
      "WARNING:tensorflow:Using a while_loop for converting Bitcast cause there is no registered converter for this op.\n",
      "WARNING:tensorflow:Using a while_loop for converting StatelessRandomUniformV2 cause there is no registered converter for this op.\n",
      "WARNING:tensorflow:Using a while_loop for converting ImageProjectiveTransformV3 cause there is no registered converter for this op.\n",
      "WARNING:tensorflow:Using a while_loop for converting RngReadAndSkip cause there is no registered converter for this op.\n",
      "WARNING:tensorflow:Using a while_loop for converting Bitcast cause there is no registered converter for this op.\n",
      "WARNING:tensorflow:Using a while_loop for converting Bitcast cause there is no registered converter for this op.\n",
      "WARNING:tensorflow:Using a while_loop for converting StatelessRandomUniformV2 cause there is no registered converter for this op.\n",
      "WARNING:tensorflow:Using a while_loop for converting ImageProjectiveTransformV3 cause there is no registered converter for this op.\n",
      "WARNING:tensorflow:Using a while_loop for converting RngReadAndSkip cause there is no registered converter for this op.\n",
      "WARNING:tensorflow:Using a while_loop for converting Bitcast cause there is no registered converter for this op.\n",
      "WARNING:tensorflow:Using a while_loop for converting Bitcast cause there is no registered converter for this op.\n",
      "WARNING:tensorflow:Using a while_loop for converting StatelessRandomUniformV2 cause there is no registered converter for this op.\n",
      "WARNING:tensorflow:Using a while_loop for converting ImageProjectiveTransformV3 cause there is no registered converter for this op.\n",
      "WARNING:tensorflow:Using a while_loop for converting RngReadAndSkip cause there is no registered converter for this op.\n",
      "WARNING:tensorflow:Using a while_loop for converting Bitcast cause there is no registered converter for this op.\n",
      "WARNING:tensorflow:Using a while_loop for converting Bitcast cause there is no registered converter for this op.\n",
      "WARNING:tensorflow:Using a while_loop for converting StatelessRandomUniformV2 cause there is no registered converter for this op.\n",
      "WARNING:tensorflow:Using a while_loop for converting ImageProjectiveTransformV3 cause there is no registered converter for this op.\n",
      "WARNING:tensorflow:Using a while_loop for converting RngReadAndSkip cause there is no registered converter for this op.\n",
      "WARNING:tensorflow:Using a while_loop for converting Bitcast cause there is no registered converter for this op.\n",
      "WARNING:tensorflow:Using a while_loop for converting Bitcast cause there is no registered converter for this op.\n",
      "WARNING:tensorflow:Using a while_loop for converting StatelessRandomUniformV2 cause there is no registered converter for this op.\n",
      "WARNING:tensorflow:Using a while_loop for converting ImageProjectiveTransformV3 cause there is no registered converter for this op.\n",
      "WARNING:tensorflow:Using a while_loop for converting RngReadAndSkip cause there is no registered converter for this op.\n",
      "WARNING:tensorflow:Using a while_loop for converting Bitcast cause there is no registered converter for this op.\n",
      "WARNING:tensorflow:Using a while_loop for converting Bitcast cause there is no registered converter for this op.\n",
      "WARNING:tensorflow:Using a while_loop for converting StatelessRandomUniformV2 cause there is no registered converter for this op.\n",
      "WARNING:tensorflow:Using a while_loop for converting ImageProjectiveTransformV3 cause there is no registered converter for this op.\n"
     ]
    },
    {
     "name": "stderr",
     "output_type": "stream",
     "text": [
      "/usr/local/lib/python3.8/dist-packages/keras/backend.py:5582: UserWarning: \"`sparse_categorical_crossentropy` received `from_logits=True`, but the `output` argument was produced by a Softmax activation and thus does not represent logits. Was this intended?\n",
      "  output, from_logits = _get_logits(\n"
     ]
    },
    {
     "name": "stdout",
     "output_type": "stream",
     "text": [
      "WARNING:tensorflow:Using a while_loop for converting RngReadAndSkip cause there is no registered converter for this op.\n",
      "WARNING:tensorflow:Using a while_loop for converting Bitcast cause there is no registered converter for this op.\n",
      "WARNING:tensorflow:Using a while_loop for converting Bitcast cause there is no registered converter for this op.\n",
      "WARNING:tensorflow:Using a while_loop for converting StatelessRandomUniformV2 cause there is no registered converter for this op.\n",
      "WARNING:tensorflow:Using a while_loop for converting ImageProjectiveTransformV3 cause there is no registered converter for this op.\n",
      "WARNING:tensorflow:Using a while_loop for converting RngReadAndSkip cause there is no registered converter for this op.\n",
      "WARNING:tensorflow:Using a while_loop for converting Bitcast cause there is no registered converter for this op.\n",
      "WARNING:tensorflow:Using a while_loop for converting Bitcast cause there is no registered converter for this op.\n",
      "WARNING:tensorflow:Using a while_loop for converting StatelessRandomUniformV2 cause there is no registered converter for this op.\n",
      "WARNING:tensorflow:Using a while_loop for converting ImageProjectiveTransformV3 cause there is no registered converter for this op.\n",
      "60/60 [==============================] - 98s 2s/step - loss: 2.7449 - accuracy: 0.2829 - val_loss: 1.4833 - val_accuracy: 0.3577\n",
      "Epoch 2/12\n",
      "60/60 [==============================] - 97s 2s/step - loss: 1.3709 - accuracy: 0.4142 - val_loss: 1.3588 - val_accuracy: 0.4121\n",
      "Epoch 3/12\n",
      "60/60 [==============================] - 97s 2s/step - loss: 1.2996 - accuracy: 0.4555 - val_loss: 1.3432 - val_accuracy: 0.4331\n",
      "Epoch 4/12\n",
      "60/60 [==============================] - 89s 1s/step - loss: 1.1922 - accuracy: 0.5152 - val_loss: 1.1536 - val_accuracy: 0.5356\n",
      "Epoch 5/12\n",
      "60/60 [==============================] - 92s 2s/step - loss: 1.1152 - accuracy: 0.5513 - val_loss: 1.1278 - val_accuracy: 0.5523\n",
      "Epoch 6/12\n",
      "60/60 [==============================] - 97s 2s/step - loss: 1.0626 - accuracy: 0.5826 - val_loss: 1.2656 - val_accuracy: 0.5230\n",
      "Epoch 7/12\n",
      "60/60 [==============================] - 90s 1s/step - loss: 1.0129 - accuracy: 0.6036 - val_loss: 1.1425 - val_accuracy: 0.5711\n",
      "Epoch 8/12\n",
      "60/60 [==============================] - 93s 2s/step - loss: 0.9677 - accuracy: 0.6151 - val_loss: 1.2346 - val_accuracy: 0.5669\n",
      "Epoch 9/12\n",
      "60/60 [==============================] - 92s 2s/step - loss: 0.9284 - accuracy: 0.6402 - val_loss: 1.1275 - val_accuracy: 0.5879\n",
      "Epoch 10/12\n",
      "60/60 [==============================] - 97s 2s/step - loss: 0.8991 - accuracy: 0.6653 - val_loss: 1.2265 - val_accuracy: 0.5607\n",
      "Epoch 11/12\n",
      "60/60 [==============================] - 93s 2s/step - loss: 0.8505 - accuracy: 0.6689 - val_loss: 1.0641 - val_accuracy: 0.6234\n",
      "Epoch 12/12\n",
      "60/60 [==============================] - 98s 2s/step - loss: 0.8272 - accuracy: 0.6747 - val_loss: 1.0574 - val_accuracy: 0.6213\n"
     ]
    },
    {
     "data": {
      "image/png": "[encoded data removed]",
      "text/plain": [
       "<Figure size 640x480 with 1 Axes>"
      ]
     },
     "metadata": {},
     "output_type": "display_data"
    }
   ],
   "source": [
    "import numpy as np\n",
    "import os\n",
    "# import PIL\n",
    "# import PIL.Image\n",
    "import tensorflow as tf\n",
    "# import tensorflow_datasets as tfds\n",
    "import pathlib\n",
    "from tensorflow.keras import datasets, layers, models\n",
    "import matplotlib.pyplot as plt\n",
    "\n",
    "dataDir = \"/code/archive/garbage_classification/Garbage_classification\"\n",
    "\n",
    "imgHeight = 384\n",
    "imgWidth = 512\n",
    "batchSize = 32\n",
    "\n",
    "trainDs = tf.keras.utils.image_dataset_from_directory(\n",
    "  dataDir,\n",
    "  validation_split=0.2,\n",
    "  subset=\"training\",\n",
    "  seed=123,\n",
    "  image_size=(imgHeight, imgWidth),\n",
    "  batch_size=batchSize)\n",
    "\n",
    "valDs = tf.keras.utils.image_dataset_from_directory(\n",
    "  dataDir,\n",
    "  validation_split=0.2,\n",
    "  subset=\"validation\",\n",
    "  seed=123,\n",
    "  image_size=(imgHeight, imgWidth),\n",
    "  batch_size=batchSize)\n",
    "\n",
    "AUTOTUNE = tf.data.AUTOTUNE\n",
    "\n",
    "trainDs = trainDs.cache().prefetch(buffer_size=AUTOTUNE)\n",
    "valDs = valDs.cache().prefetch(buffer_size=AUTOTUNE)\n",
    "\n",
    "data_augmentation = tf.keras.Sequential([\n",
    "  layers.RandomFlip(\"horizontal_and_vertical\"),\n",
    "  layers.RandomRotation(0.2),\n",
    "  layers.RandomZoom(0.1)\n",
    "])\n",
    "\n",
    "data_augmentation2 = tf.keras.Sequential([\n",
    "  layers.RandomContrast(0.3),\n",
    "])\n",
    "\n",
    "resize_and_rescale = tf.keras.Sequential([\n",
    "  layers.Resizing(int(imgHeight/2), int(imgWidth/2)),\n",
    "  layers.Rescaling(1./255)\n",
    "])\n",
    "\n",
    "model = tf.keras.Sequential()\n",
    "model.add(resize_and_rescale),\n",
    "model.add(data_augmentation),\n",
    "model.add(layers.Conv2D(32, (3, 3), activation='relu')),\n",
    "model.add(layers.MaxPooling2D((2, 2))),\n",
    "model.add(layers.Conv2D(64, (3, 3), activation='relu')),\n",
    "model.add(layers.MaxPooling2D((2, 2))),\n",
    "model.add(layers.Conv2D(128, (3, 3), activation='relu')),\n",
    "model.add(layers.Dropout(0.3))\n",
    "model.add(layers.Flatten()),\n",
    "model.add(layers.Dense(128, activation='relu')),\n",
    "model.add(layers.Dense(5, activation='softmax')),\n",
    "\n",
    "\n",
    "\n",
    "model.compile(optimizer='adam',\n",
    "              loss=tf.keras.losses.SparseCategoricalCrossentropy(from_logits=True),\n",
    "              metrics=['accuracy'])\n",
    "\n",
    "history = model.fit(trainDs, epochs=12, \n",
    "                    validation_data=valDs)\n",
    "\n",
    "plt.plot(history.history['accuracy'])\n",
    "plt.plot(history.history['val_accuracy'])\n",
    "plt.title('model accuracy')\n",
    "plt.ylabel('accuracy')\n",
    "plt.xlabel('epoch')\n",
    "plt.legend(['train', 'test'], loc='upper left')\n",
    "plt.show()\n"
   ]
  },
  {
   "cell_type": "markdown",
   "metadata": {},
   "source": []
  },
  {
   "cell_type": "code",
   "execution_count": 12,
   "metadata": {},
   "outputs": [
    {
     "name": "stdout",
     "output_type": "stream",
     "text": [
      "1/1 [==============================] - 0s 75ms/step\n",
      "[[0.0000000e+00 5.1580932e-24 1.0000000e+00 0.0000000e+00 3.2621253e-26]]\n",
      "Max probability 1.0\n",
      "Predicted index 2\n",
      "Predicted class: Metal\n",
      "1.0\n"
     ]
    }
   ],
   "source": [
    "img = tf.io.read_file(\"/code/test_images/glass1.jpg\")\n",
    "tensor = tf.io.decode_image(img, channels=3, dtype=tf.dtypes.float32)\n",
    "tensor = tf.image.resize(tensor, [imgHeight, imgWidth])\n",
    "input_tensor = tf.expand_dims(tensor, axis=0)\n",
    "\n",
    "prediction = model.predict(input_tensor)\n",
    "print(prediction)\n",
    "maxValue = max(prediction[0])\n",
    "print(\"Max probability\",maxValue)\n",
    "\n",
    "# Set classes labels\n",
    "classes = ['Cardboard','Glass','Metal','Paper','Plastic']\n",
    "\n",
    "print(\"Predicted index\",np.where(prediction[0] == maxValue)[0][0])\n",
    "print(\"Predicted class:\",classes[np.where(prediction[0] == maxValue)[0][0]])\n",
    "print(sum(prediction[0]))"
   ]
  }
 ],
 "metadata": {
  "kernelspec": {
   "display_name": "Python 3.8.10 64-bit",
   "language": "python",
   "name": "python3"
  },
  "language_info": {
   "codemirror_mode": {
    "name": "ipython",
    "version": 3
   },
   "file_extension": ".py",
   "mimetype": "text/x-python",
   "name": "python",
   "nbconvert_exporter": "python",
   "pygments_lexer": "ipython3",
   "version": "3.8.10"
  },
  "orig_nbformat": 4,
  "vscode": {
   "interpreter": {
    "hash": "916dbcbb3f70747c44a77c7bcd40155683ae19c65e1c03b4aa3499c5328201f1"
   }
  }
 },
 "nbformat": 4,
 "nbformat_minor": 2
}
